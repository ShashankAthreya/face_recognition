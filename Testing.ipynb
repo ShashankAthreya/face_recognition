{
 "cells": [
  {
   "cell_type": "markdown",
   "metadata": {},
   "source": [
    "# The Necessery Dependencies\n",
    "\n",
    "Install the required, you can use the link below to check the steps of installation.\n",
    "https://github.com/ShashankAthreya/face_recognition_OFD"
   ]
  },
  {
   "cell_type": "code",
   "execution_count": null,
   "metadata": {},
   "outputs": [],
   "source": [
    "import face_recognition\n",
    "import os\n",
    "import cv2\n",
    "import numpy as np\n",
    "from PIL import Image, ImageDraw\n",
    "from IPython.display import display\n",
    "import pandas as pd\n",
    "import csv\n",
    "import pickle"
   ]
  },
  {
   "cell_type": "markdown",
   "metadata": {},
   "source": [
    "### The necessary varaibles are defined below"
   ]
  },
  {
   "cell_type": "code",
   "execution_count": null,
   "metadata": {
    "scrolled": true
   },
   "outputs": [],
   "source": [
    "Training_Data = \"Training_Data\"\n",
    "Tolerence = 0.01\n",
    "Frame_thickness = 3\n",
    "Font_thickness = 2\n",
    "Model = \"cnn\" #or hog\n",
    "new_known_faces = []\n",
    "new_known_names = []"
   ]
  },
  {
   "cell_type": "markdown",
   "metadata": {},
   "source": [
    "### The pre-existing model is loaded using the below lines of code"
   ]
  },
  {
   "cell_type": "code",
   "execution_count": null,
   "metadata": {},
   "outputs": [],
   "source": [
    "with open(\"known_faces.txt\", \"rb\") as fp:\n",
    "    imported_known_faces = pickle.load(fp)\n",
    "with open(\"known_names.txt\", \"rb\") as fp:\n",
    "    imported_known_names = pickle.load(fp)"
   ]
  },
  {
   "cell_type": "markdown",
   "metadata": {},
   "source": [
    "### Adding additional datasets\n",
    "\n",
    "Place the dataset in the Training_Data folder and execute the below lines of code"
   ]
  },
  {
   "cell_type": "code",
   "execution_count": null,
   "metadata": {},
   "outputs": [],
   "source": [
    "count = 0\n",
    "print(\"Initialising new tests\")\n",
    "for name in os.listdir(Training_Data):\n",
    "    for filename in os.listdir(f\"{Training_Data}/{name}\"):\n",
    "        image = face_recognition.load_image_file(f\"{Training_Data}/{name}/{filename}\")\n",
    "        #print(f\"{Training_Data}/{name}/{filename}\")\n",
    "        try:\n",
    "            encoding = face_recognition.face_encodings(image)[0]\n",
    "        except IndexError:\n",
    "            pass\n",
    "        new_known_faces.append(encoding)\n",
    "        new_known_names.append(name)\n",
    "    count += 1\n",
    "    print(count,name)\n",
    "    \n",
    "joined_known_faces = imported_known_faces + new_known_faces\n",
    "joined_known_names = imported_known_names + new_known_names\n",
    "\n",
    "print(\"Adding Newly Tainied Names\")\n",
    "\n",
    "with open(\"known_faces.txt\", \"wb\") as fp:\n",
    "    pickle.dump(joined_known_faces, fp)\n",
    "with open(\"known_names.txt\", \"wb\") as fp:\n",
    "    pickle.dump(joined_known_names, fp)\n",
    "    \n",
    "with open(\"known_faces.txt\", \"rb\") as fp:\n",
    "    imported_known_faces = pickle.load(fp)\n",
    "with open(\"known_names.txt\", \"rb\") as fp:\n",
    "    imported_known_names = pickle.load(fp)\n",
    "    \n",
    "print(\"Faces have been added\")"
   ]
  },
  {
   "cell_type": "markdown",
   "metadata": {},
   "source": [
    "### Testing the trained model\n",
    "Execute the below lines of code to test the trained model.\n",
    "Add the path of the file in line 3."
   ]
  },
  {
   "cell_type": "code",
   "execution_count": null,
   "metadata": {},
   "outputs": [],
   "source": [
    "print(\"Starting Testing for unknown faces\")\n",
    "\n",
    "unknown_image = face_recognition.load_image_file(\"test_image.jpg\")#Add the file path here\n",
    "\n",
    "\n",
    "face_locations = face_recognition.face_locations(unknown_image)\n",
    "face_encodings = face_recognition.face_encodings(unknown_image, face_locations)\n",
    "pil_image = Image.fromarray(unknown_image)\n",
    "draw = ImageDraw.Draw(pil_image)\n",
    "for (top, right, bottom, left), face_encoding in zip(face_locations, face_encodings):\n",
    "    matches = face_recognition.compare_faces(imported_known_faces, face_encoding, Tolerence)\n",
    "    name = \"Unknown\"\n",
    "    face_distances = face_recognition.face_distance(imported_known_faces, face_encoding)\n",
    "    best_match_index = np.argmin(face_distances)\n",
    "    if matches[best_match_index]:\n",
    "        name = imported_known_names[best_match_index]\n",
    "    draw.rectangle(((left, top), (right, bottom)), outline=(0, 0, 255))\n",
    "    text_width, text_height = draw.textsize(name)\n",
    "    draw.rectangle(((left, bottom - text_height - 10), (right, bottom)), fill=(0, 0, 255), outline=(0, 0, 255))\n",
    "    draw.text((left + 6, bottom - text_height - 5), name, fill=(255, 255, 255, 255))\n",
    "\n",
    "del draw\n",
    "display(pil_image)\n",
    "print(\"Confidence level \",(1-Tolerence)*100,\"%\")"
   ]
  },
  {
   "cell_type": "markdown",
   "metadata": {},
   "source": [
    "### Additional operations\n",
    "print to check if your trained name has been added"
   ]
  },
  {
   "cell_type": "code",
   "execution_count": null,
   "metadata": {},
   "outputs": [],
   "source": [
    "print(imported_known_names)"
   ]
  }
 ],
 "metadata": {
  "kernelspec": {
   "display_name": "Python 3",
   "language": "python",
   "name": "python3"
  },
  "language_info": {
   "codemirror_mode": {
    "name": "ipython",
    "version": 3
   },
   "file_extension": ".py",
   "mimetype": "text/x-python",
   "name": "python",
   "nbconvert_exporter": "python",
   "pygments_lexer": "ipython3",
   "version": "3.6.9"
  }
 },
 "nbformat": 4,
 "nbformat_minor": 4
}
